{
 "cells": [
  {
   "cell_type": "code",
   "execution_count": 1,
   "metadata": {},
   "outputs": [],
   "source": [
    "import random"
   ]
  },
  {
   "cell_type": "code",
   "execution_count": 2,
   "metadata": {},
   "outputs": [],
   "source": [
    "class Die:\n",
    "    \"\"\"\n",
    "    Represents a die object.\n",
    "    \"\"\"\n",
    "    def __init__(self, value=None):\n",
    "        self.value = value\n",
    "\n",
    "    def __repr__(self):\n",
    "        return str(\"Die: \" + str(self.value))\n",
    "\n",
    "    def roll(self):\n",
    "        self.value = random.randint(1, 6)"
   ]
  },
  {
   "cell_type": "code",
   "execution_count": 3,
   "metadata": {},
   "outputs": [],
   "source": [
    "class Player:\n",
    "    \"\"\"\n",
    "    Represents a player in the game.\n",
    "    \"\"\"\n",
    "    def __init__(self, name):\n",
    "        self.name = name\n",
    "        self.dice = [Die() for i in range(6)]\n",
    "\n",
    "    def __repr__(self):\n",
    "        return_string = \"\"\n",
    "        return_string += str(\"Name: \") + self.name + \" \"\n",
    "        return_string += str([d.value for d in self.dice])\n",
    "        return return_string\n",
    "\n",
    "    def get_name(self):\n",
    "        return self.name\n",
    "    \n",
    "    def get_dice(self):\n",
    "        return self.dice\n",
    "\n",
    "    def roll_dice(self):\n",
    "        for die in self.dice:\n",
    "            die.roll()\n",
    "\n",
    "    def lose_dice(self):\n",
    "        self.dice.pop()\n",
    "\n",
    "    def gain_dice(self):\n",
    "        self.dice.append(Die())\n",
    "\n",
    "    def make_bid(self, previous_bid=None):\n",
    "        # Maybe a try/catch to stop erroneous bids (e.g. someone bid's a string etc) ??\n",
    "        quantity = int(input(\"Bid quantity: \"))\n",
    "        value = int(input(\"Bid value: \"))\n",
    "        bid = Bid(quantity, value)\n",
    "\n",
    "        # Beginning of a bidding round, no previous bid\n",
    "        if previous_bid == None : return bid\n",
    "\n",
    "\n",
    "        if bid > previous_bid : \n",
    "            return bid\n",
    "        else : \n",
    "            # Continue to recursively try to make a higher bid. Can I do this?\n",
    "            self.make_bid(self, previous_bid)\n",
    "\n",
    "    def call(self, previous_bid):\n",
    "        pass # To implement\n",
    "\n",
    "    def has_lost(self):\n",
    "        return not(self.dice)\n",
    "\n",
    "    def is_remaining(self):\n",
    "        return bool(self.dice)"
   ]
  },
  {
   "cell_type": "code",
   "execution_count": 4,
   "metadata": {},
   "outputs": [],
   "source": [
    "class Bid:\n",
    "    def __init__(self, quantity, value):\n",
    "        self.quantity = quantity # {1 -> n} where n is number of dice in play\n",
    "        self.value = value # {1, 2, 3, 4, 5, 6}\n",
    "\n",
    "    def __eq__(self, other):\n",
    "        return self.quantity == other.quantity and self.value == other.value\n",
    "\n",
    "    def __gt__(self, other):\n",
    "        if self.notAceBid() and other.notAceBid() :\n",
    "            if self.quantity == other.quantity :\n",
    "                return self.value > other.value\n",
    "            else :\n",
    "                return self.quantity > other.quantity\n",
    "        if self.isAceBid() and other.notAceBid() : \n",
    "            return self.quantity * 2 >= other.quantity\n",
    "        if self.notAceBid() and other.isAceBid() : \n",
    "            return self.quantity > other.quantity * 2\n",
    "        if self.isAceBid() and other.isAceBid() :\n",
    "            return self.quantity > other.quantity\n",
    "\n",
    "    def __lt__(self, other):\n",
    "        if self.notAceBid() and other.notAceBid() : \n",
    "            if self.quantity == other.quantity :\n",
    "                return self.value < other.value\n",
    "            else :\n",
    "                return self.quantity < other.quantity\n",
    "        if self.isAceBid() and other.notAceBid() : \n",
    "            return self.quantity * 2 <= other.quantity\n",
    "        if self.notAceBid() and other.isAceBid() :\n",
    "            return self.quantity < other.quantity * 2\n",
    "        if self.isAceBid() and other.isAceBid() :\n",
    "            return self.quantity < other.quantity\n",
    "\n",
    "    def isAceBid(self):\n",
    "        return self.value == 1\n",
    "\n",
    "    def notAceBid(self):\n",
    "        return self.value != 1"
   ]
  },
  {
   "cell_type": "code",
   "execution_count": 5,
   "metadata": {},
   "outputs": [],
   "source": [
    "class Call:\n",
    "    \"\"\"\n",
    "    Represents when a player calls a bid- ending that bidding round and starting the comparisons.\n",
    "    \"\"\"\n",
    "    def __init__(self):\n",
    "        pass"
   ]
  },
  {
   "cell_type": "code",
   "execution_count": 6,
   "metadata": {},
   "outputs": [],
   "source": [
    "class Game():\n",
    "    \"\"\"\n",
    "    Represents an actual instance of the game Liar's Dice (Dudo)\n",
    "    \"\"\"\n",
    "    def __init__(self):\n",
    "        self.players = []\n",
    "        self.generate_players()\n",
    "\n",
    "    def __repr__(self):\n",
    "        return str(self.players)\n",
    "        \n",
    "    def generate_players(self):\n",
    "        num_players = int(input(\"How many players are playing?\"))\n",
    "        \n",
    "        # Create the Player objects and store them inside players list\n",
    "        for i in range(num_players):\n",
    "            name = input(\"Player's name?\")\n",
    "            self.players.append(Player(name))\n",
    "\n",
    "    def is_finished(self):\n",
    "        return self.players_remaining() < 2\n",
    "\n",
    "    def get_players(self):\n",
    "        return self.players\n",
    "\n",
    "    def players_remaining(self):\n",
    "        remaining = []\n",
    "        for player in self.players:\n",
    "            remaining.append(bool(player.is_remaining()))\n",
    "        return sum(remaining)"
   ]
  },
  {
   "cell_type": "code",
   "execution_count": null,
   "metadata": {},
   "outputs": [],
   "source": [
    "game = Game()"
   ]
  },
  {
   "cell_type": "code",
   "execution_count": null,
   "metadata": {},
   "outputs": [],
   "source": [
    "game.players_remaining()"
   ]
  },
  {
   "cell_type": "code",
   "execution_count": 10,
   "metadata": {},
   "outputs": [
    {
     "data": {
      "text/plain": [
       "False"
      ]
     },
     "execution_count": 10,
     "metadata": {},
     "output_type": "execute_result"
    }
   ],
   "source": [
    "prev_bid = Bid(5, 5)\n",
    "player = Player(\"Marcus\")\n",
    "player.make_bid(prev_bid)\n",
    "\n",
    "my_bid > prev_bid"
   ]
  },
  {
   "cell_type": "code",
   "execution_count": null,
   "metadata": {},
   "outputs": [],
   "source": [
    "game.get_players()[0].gain_dice()"
   ]
  },
  {
   "cell_type": "code",
   "execution_count": null,
   "metadata": {},
   "outputs": [],
   "source": [
    "game.is_finished()"
   ]
  },
  {
   "cell_type": "code",
   "execution_count": null,
   "metadata": {},
   "outputs": [],
   "source": [
    "# Main class\n",
    "players = []\n",
    "\n",
    "num_players = int(input(\"How many players are playing?\"))\n",
    "print(type(num_players))\n",
    "\n",
    "for i in range(num_players):\n",
    "    name = input(\"Player's name?\")\n",
    "    players.append(Player(name))"
   ]
  },
  {
   "cell_type": "code",
   "execution_count": null,
   "metadata": {},
   "outputs": [],
   "source": [
    "# To do list\n",
    "\n",
    "# Ensure logic of lt and gt for bids is correct (Write tests????)\n",
    "# Set up the Game class which is going to be an instance of an actual game of Liar's dice\n",
    "# Test equals case for gt and lt\n",
    "\n",
    "# Game class\n",
    "\n",
    "# Fields\n",
    "# players field which stores the Player objects (list of Player() objects)\n",
    "# game_finished - boolean True/False\n",
    "\n",
    "\n",
    "# isFinished()\n",
    "# notFinished()\n",
    "\n",
    "\n",
    "\n",
    "# Collection of Player objects\n",
    "\n",
    "\n",
    "# Main method??\n",
    "\n",
    "# set up the players\n",
    "# put players inside the game object\n",
    "# while game.notFinished() main game loop\n",
    "\n",
    "\n",
    "# Maybe a Round class?? which describes or is a single round of the game.\n",
    "\n",
    "#  Fix the repr for the Player Class\n",
    "\n"
   ]
  },
  {
   "cell_type": "code",
   "execution_count": null,
   "metadata": {},
   "outputs": [],
   "source": []
  },
  {
   "cell_type": "code",
   "execution_count": null,
   "metadata": {},
   "outputs": [],
   "source": []
  }
 ],
 "metadata": {
  "interpreter": {
   "hash": "3c70807c06e529bc948c6aedee5864ec05d242242de1bb765984c097b61c4419"
  },
  "kernelspec": {
   "display_name": "Python 3.9.7 64-bit (conda)",
   "name": "python3"
  },
  "language_info": {
   "codemirror_mode": {
    "name": "ipython",
    "version": 3
   },
   "file_extension": ".py",
   "mimetype": "text/x-python",
   "name": "python",
   "nbconvert_exporter": "python",
   "pygments_lexer": "ipython3",
   "version": "3.9.7"
  }
 },
 "nbformat": 4,
 "nbformat_minor": 2
}
