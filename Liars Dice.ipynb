{
 "cells": [
  {
   "cell_type": "code",
   "execution_count": 1,
   "metadata": {},
   "outputs": [],
   "source": [
    "import random"
   ]
  },
  {
   "cell_type": "code",
   "execution_count": 39,
   "metadata": {},
   "outputs": [],
   "source": [
    "class Die:\n",
    "    def __init__(self):\n",
    "        self.value = None\n",
    "\n",
    "    def __repr__(self):\n",
    "        return str(self.value)\n",
    "\n",
    "    def roll(self):\n",
    "        self.value = random.randint(1,6)"
   ]
  },
  {
   "cell_type": "code",
   "execution_count": 52,
   "metadata": {},
   "outputs": [],
   "source": [
    "class Player:\n",
    "    def __init__(self, name):\n",
    "        self.name = name\n",
    "        self.dice = [Die() for i in range(6)]\n",
    "\n",
    "    def __repr__(self):\n",
    "        repr = f\"Player: {str(self.name)}\\n\"\n",
    "        repr += f\"Dice: {str(self.show_dice_values())}\"\n",
    "\n",
    "\n",
    "    def get_name(self):\n",
    "        return self.name\n",
    "    \n",
    "    def get_dice(self):\n",
    "        return self.dice\n",
    "\n",
    "    def roll_dice(self):\n",
    "        for die in self.dice:\n",
    "            die.roll()\n",
    "\n",
    "    def show_dice_values(self):\n",
    "        l = []\n",
    "        for die in self.dice:\n",
    "            l.append(die.get_value())\n",
    "        return l"
   ]
  },
  {
   "cell_type": "code",
   "execution_count": 93,
   "metadata": {},
   "outputs": [],
   "source": [
    "class Bid:\n",
    "    def __init__(self, quantity, value):\n",
    "        self.quantity = quantity\n",
    "        self.value = value\n",
    "\n",
    "    def __eq__(self, other):\n",
    "        return self.quantity == other.quantity and self.value == other.value\n",
    "\n",
    "    def __gt__(self, other):\n",
    "        if self.notAceBid() and other.notAceBid() :\n",
    "            if self.quantity == other.quantity :\n",
    "                return self.value > other.value\n",
    "            else :\n",
    "                return self.quantity > other.quantity\n",
    "        if self.isAceBid() and other.notAceBid() : \n",
    "            return True # Need to implement\n",
    "        if self.notAceBid() and other.isAceBid() : \n",
    "            return False # Need to implement\n",
    "        if self.isAceBid() and other.isAceBid() :\n",
    "            return self.quantity > other.quantity\n",
    "\n",
    "    def __lt__(self, other):\n",
    "        if self.notAceBid() and other.notAceBid() : \n",
    "            if self.quantity == other.quantity :\n",
    "                return self.value < other.value\n",
    "            else :\n",
    "                return self.quantity < other.quantity\n",
    "        if self.isAceBid() and other.notAceBid() : \n",
    "            # Implement this\n",
    "            return False\n",
    "        if self.notAceBid() and other.isAceBid() :\n",
    "            # Implement this too\n",
    "            return True\n",
    "        if self.isAceBid() and other.isAceBid() :\n",
    "            return self.quantity < other.quantity\n",
    "\n",
    "    def isAceBid(self):\n",
    "        return self.value == 1\n",
    "\n",
    "    def notAceBid(self):\n",
    "        return not(self.isAceBid())\n"
   ]
  },
  {
   "cell_type": "code",
   "execution_count": 95,
   "metadata": {},
   "outputs": [
    {
     "data": {
      "text/plain": [
       "False"
      ]
     },
     "execution_count": 95,
     "metadata": {},
     "output_type": "execute_result"
    }
   ],
   "source": [
    "b1 = Bid(3, 3)\n",
    "b2 = Bid(4, 5)\n",
    "\n",
    "b1.isAceBid()"
   ]
  },
  {
   "cell_type": "code",
   "execution_count": null,
   "metadata": {},
   "outputs": [],
   "source": []
  },
  {
   "cell_type": "code",
   "execution_count": null,
   "metadata": {},
   "outputs": [],
   "source": []
  },
  {
   "cell_type": "code",
   "execution_count": null,
   "metadata": {},
   "outputs": [],
   "source": []
  },
  {
   "cell_type": "code",
   "execution_count": null,
   "metadata": {},
   "outputs": [],
   "source": []
  }
 ],
 "metadata": {
  "interpreter": {
   "hash": "3c70807c06e529bc948c6aedee5864ec05d242242de1bb765984c097b61c4419"
  },
  "kernelspec": {
   "display_name": "Python 3.9.7 64-bit (conda)",
   "name": "python3"
  },
  "language_info": {
   "codemirror_mode": {
    "name": "ipython",
    "version": 3
   },
   "file_extension": ".py",
   "mimetype": "text/x-python",
   "name": "python",
   "nbconvert_exporter": "python",
   "pygments_lexer": "ipython3",
   "version": "3.9.7"
  }
 },
 "nbformat": 4,
 "nbformat_minor": 2
}
